{
  "nbformat": 4,
  "nbformat_minor": 0,
  "metadata": {
    "colab": {
      "provenance": [],
      "machine_shape": "hm",
      "gpuType": "A100",
      "authorship_tag": "ABX9TyNV6I0fxo8KY5L6oKdmSKHl",
      "include_colab_link": true
    },
    "kernelspec": {
      "name": "python3",
      "display_name": "Python 3"
    },
    "language_info": {
      "name": "python"
    },
    "accelerator": "GPU"
  },
  "cells": [
    {
      "cell_type": "markdown",
      "metadata": {
        "id": "view-in-github",
        "colab_type": "text"
      },
      "source": [
        "<a href=\"https://colab.research.google.com/github/prithviemmidi/Dissertation/blob/main/CIFAR10_Hyperparameter_Tuning.ipynb\" target=\"_parent\"><img src=\"https://colab.research.google.com/assets/colab-badge.svg\" alt=\"Open In Colab\"/></a>"
      ]
    },
    {
      "cell_type": "code",
      "source": [
        "!pip install -q -U keras-tuner"
      ],
      "metadata": {
        "id": "iG7_W7uWvaVa"
      },
      "execution_count": null,
      "outputs": []
    },
    {
      "cell_type": "code",
      "execution_count": null,
      "metadata": {
        "id": "At9J_HfIOWki"
      },
      "outputs": [],
      "source": [
        "import tensorflow as tf\n",
        "import matplotlib.pyplot as plt\n",
        "import numpy as np\n",
        "import pandas as pd\n",
        "import keras_tuner as kt\n",
        "import time\n",
        "\n",
        "from tensorflow.keras import datasets,models,layers\n",
        "from tensorflow.keras.optimizers import SGD, Adagrad, Adadelta, RMSprop, Adam\n",
        "from keras_tuner.tuners import RandomSearch"
      ]
    },
    {
      "cell_type": "code",
      "source": [
        "data = tf.keras.datasets.cifar10"
      ],
      "metadata": {
        "id": "PrcL7d7wOm58"
      },
      "execution_count": null,
      "outputs": []
    },
    {
      "cell_type": "code",
      "source": [
        "(train_images, train_labels), (test_images, test_labels) = data.load_data()"
      ],
      "metadata": {
        "id": "On9-wRcOOm77"
      },
      "execution_count": null,
      "outputs": []
    },
    {
      "cell_type": "code",
      "source": [
        "train_images, test_images = train_images / 255.0, test_images / 255.0"
      ],
      "metadata": {
        "id": "HdPZAv8BOm-E"
      },
      "execution_count": null,
      "outputs": []
    },
    {
      "cell_type": "code",
      "source": [
        "def build_model(hp):\n",
        "    model = tf.keras.models.Sequential()\n",
        "    model.add(tf.keras.layers.Conv2D(\n",
        "        filters=hp.Choice('filters', [32, 64, 128]),\n",
        "        kernel_size=3,\n",
        "        activation='relu',\n",
        "        input_shape=(32, 32, 3)\n",
        "    ))\n",
        "    model.add(tf.keras.layers.MaxPooling2D(2, 2))\n",
        "    model.add(tf.keras.layers.Flatten())\n",
        "    model.add(tf.keras.layers.Dense(\n",
        "        units=hp.Int('units', 256, 512, 1024),\n",
        "        activation='relu'\n",
        "    ))\n",
        "    model.add(tf.keras.layers.Dense(10, activation='softmax'))\n",
        "\n",
        "    model.compile(\n",
        "        optimizer=RMSprop(\n",
        "            learning_rate=hp.Choice('lr', [0.01, 0.001, 0.0001, 0.00001])\n",
        "        ),\n",
        "        loss='sparse_categorical_crossentropy',\n",
        "        metrics=['accuracy']\n",
        "    )\n",
        "    return model"
      ],
      "metadata": {
        "id": "Hvb_wxZ6ZhU-"
      },
      "execution_count": null,
      "outputs": []
    },
    {
      "cell_type": "code",
      "source": [
        "tuner = RandomSearch(\n",
        "    build_model,\n",
        "    objective='val_accuracy',\n",
        "    max_trials=10)"
      ],
      "metadata": {
        "id": "jlAZqydVOxu8"
      },
      "execution_count": null,
      "outputs": []
    },
    {
      "cell_type": "code",
      "source": [
        "tuner.search(train_images, train_labels,\n",
        "             validation_split=0.2,\n",
        "             epochs=10,\n",
        "             batch_size=100)\n"
      ],
      "metadata": {
        "colab": {
          "base_uri": "https://localhost:8080/"
        },
        "id": "ojic58F0OzDZ",
        "outputId": "fdc08ba6-72d4-4136-dd6c-7641e6d331fd"
      },
      "execution_count": null,
      "outputs": [
        {
          "output_type": "stream",
          "name": "stdout",
          "text": [
            "Trial 10 Complete [00h 00m 16s]\n",
            "val_accuracy: 0.5895000100135803\n",
            "\n",
            "Best val_accuracy So Far: 0.6610000133514404\n",
            "Total elapsed time: 00h 03m 07s\n"
          ]
        }
      ]
    },
    {
      "cell_type": "code",
      "source": [
        "best_hps = tuner.get_best_hyperparameters(1)[0]\n",
        "print(best_hps.values)"
      ],
      "metadata": {
        "colab": {
          "base_uri": "https://localhost:8080/"
        },
        "id": "bWDzZR0GdLYy",
        "outputId": "f51b89f9-615b-4197-a426-9ef1899961b6"
      },
      "execution_count": null,
      "outputs": [
        {
          "output_type": "stream",
          "name": "stdout",
          "text": [
            "{'filters': 128, 'units': 256, 'lr': 0.001}\n"
          ]
        }
      ]
    },
    {
      "cell_type": "code",
      "source": [
        "tuner.results_summary()"
      ],
      "metadata": {
        "colab": {
          "base_uri": "https://localhost:8080/"
        },
        "id": "e-TnGORadLeR",
        "outputId": "b563d0aa-d238-4565-9a51-093c09c4d264"
      },
      "execution_count": null,
      "outputs": [
        {
          "output_type": "stream",
          "name": "stdout",
          "text": [
            "Results summary\n",
            "Results in ./untitled_project\n",
            "Showing 10 best trials\n",
            "Objective(name=\"val_accuracy\", direction=\"max\")\n",
            "\n",
            "Trial 00 summary\n",
            "Hyperparameters:\n",
            "filters: 128\n",
            "units: 256\n",
            "lr: 0.001\n",
            "Score: 0.6610000133514404\n",
            "\n",
            "Trial 07 summary\n",
            "Hyperparameters:\n",
            "filters: 32\n",
            "units: 256\n",
            "lr: 0.001\n",
            "Score: 0.6599000096321106\n",
            "\n",
            "Trial 05 summary\n",
            "Hyperparameters:\n",
            "filters: 64\n",
            "units: 256\n",
            "lr: 0.001\n",
            "Score: 0.6499000191688538\n",
            "\n",
            "Trial 06 summary\n",
            "Hyperparameters:\n",
            "filters: 128\n",
            "units: 256\n",
            "lr: 0.0001\n",
            "Score: 0.593999981880188\n",
            "\n",
            "Trial 09 summary\n",
            "Hyperparameters:\n",
            "filters: 32\n",
            "units: 256\n",
            "lr: 0.0001\n",
            "Score: 0.5895000100135803\n",
            "\n",
            "Trial 08 summary\n",
            "Hyperparameters:\n",
            "filters: 128\n",
            "units: 256\n",
            "lr: 0.01\n",
            "Score: 0.5575000047683716\n",
            "\n",
            "Trial 01 summary\n",
            "Hyperparameters:\n",
            "filters: 32\n",
            "units: 256\n",
            "lr: 0.01\n",
            "Score: 0.5182999968528748\n",
            "\n",
            "Trial 04 summary\n",
            "Hyperparameters:\n",
            "filters: 128\n",
            "units: 256\n",
            "lr: 1e-05\n",
            "Score: 0.4657999873161316\n",
            "\n",
            "Trial 02 summary\n",
            "Hyperparameters:\n",
            "filters: 64\n",
            "units: 256\n",
            "lr: 1e-05\n",
            "Score: 0.4571000039577484\n",
            "\n",
            "Trial 03 summary\n",
            "Hyperparameters:\n",
            "filters: 32\n",
            "units: 256\n",
            "lr: 1e-05\n",
            "Score: 0.4408000111579895\n"
          ]
        }
      ]
    }
  ]
}